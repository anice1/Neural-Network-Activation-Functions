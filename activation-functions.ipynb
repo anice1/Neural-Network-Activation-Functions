{
 "cells": [
  {
   "cell_type": "code",
   "execution_count": 26,
   "source": [
    "import matplotlib.pyplot as plt\n",
    "import numpy as np\n",
    "import pandas as pd"
   ],
   "outputs": [],
   "metadata": {}
  },
  {
   "cell_type": "markdown",
   "source": [
    "# Neural Network\n",
    "<img src=\"Images/neural-network.jpg\" width=600 height=400/><br>\n",
    "A neural network (ANN) is a set of artificial neurons or algorithms that sought to find relationships in data by mimicking the human brain. A neuron takes a set of inputs performs some mathematical operation on them and gives an output. simply a GIGO `(Garbage In Garbage Out)` Network.\n",
    "<br>\n",
    "The inputs and outputs are numbers and there's no limit to the number of inputs a neuron can take in.\n",
    "\n",
    "# Network Activation Functions\n",
    "<br>\n",
    "\n",
    "<img src='Images/activation-function.jpg' width=600 height=400/>\n",
    "\n",
    "An activation function gives a neuron in a neural network ability to express itself. In otherwords an activation function decides whether a neuron would be activated or not. It does this by deciding if the input in the network is important in the process of prediction using simpler mathematical operations.\n",
    "\n",
    "## Why do Neural Networks Need an Activation Function?\n",
    "<img src='Images/non-linearity.jpg' width=600 height=400/> <br>\n",
    "We need them to be able add non-linearity to our neural network 🤷🏽‍♂️.\n",
    "Without an activation function, our neural network will only perform Linear Transformations on the inputs passed to it.\n",
    "<br>\n",
    "\n",
    "\n",
    "## Types of Activation Function\n",
    "There are 3 types of activation functions \n",
    "\n",
    "* Binary Step functions\n",
    "* Linear Activation function\n",
    "* Non-linear Activation function\n"
   ],
   "metadata": {}
  },
  {
   "cell_type": "markdown",
   "source": [
    "## Binary Step Function\n",
    "It can be expressed mathematically as 👇🏽 <br>\n",
    "<img src=\"Images/binary-step.png\" width=\"300\" height=\"200\">\n",
    "<br>\n",
    "The input fed to the activation function is compared to a certain threshold; if the input is greater than it, then the neuron is activated, else it is deactivated, meaning that its output is not passed on to the next hidden layer."
   ],
   "metadata": {}
  },
  {
   "cell_type": "code",
   "execution_count": 55,
   "source": [
    "def binary_step(x):\n",
    "    arr = []\n",
    "    for i in x:\n",
    "        if i < 0:\n",
    "            arr.append(0)\n",
    "        if i >= 0:\n",
    "            arr.append(1)\n",
    "    arr = np.array(arr)\n",
    "    return pd.Series(arr)\n",
    "\n",
    "x = [1,2,8,4,9,1,0,-3,-0.2,0,2,4,5,-5]\n",
    "plt.plot(binary_step(x));"
   ],
   "outputs": [
    {
     "output_type": "display_data",
     "data": {
      "image/png": "[encoded data removed]",
      "text/plain": [
       "<Figure size 432x288 with 1 Axes>"
      ]
     },
     "metadata": {
      "needs_background": "light"
     }
    }
   ],
   "metadata": {}
  },
  {
   "cell_type": "markdown",
   "source": [
    "## Linear Activation Function (AKA Identity function)\n",
    "Here the activation function is equal to the input <br>\n",
    "<img src=\"Images/linear-activation-formular.png\" width=\"300\" height=\"200\"> <br>\n",
    "It’s not possible to use backpropagation as the derivative of the function is a constant and has no relation to the input x. "
   ],
   "metadata": {}
  },
  {
   "cell_type": "code",
   "execution_count": 53,
   "source": [
    "def linear_activation(x):\n",
    "    return pd.Series(x)\n",
    "\n",
    "plt.plot(linear_activation([0,1,]))"
   ],
   "outputs": [
    {
     "output_type": "execute_result",
     "data": {
      "text/plain": [
       "[<matplotlib.lines.Line2D at 0x7fe23b85baf0>]"
      ]
     },
     "metadata": {},
     "execution_count": 53
    },
    {
     "output_type": "display_data",
     "data": {
      "image/png": "[encoded data removed]",
      "text/plain": [
       "<Figure size 432x288 with 1 Axes>"
      ]
     },
     "metadata": {
      "needs_background": "light"
     }
    }
   ],
   "metadata": {}
  },
  {
   "cell_type": "code",
   "execution_count": null,
   "source": [],
   "outputs": [],
   "metadata": {}
  },
  {
   "cell_type": "code",
   "execution_count": null,
   "source": [],
   "outputs": [],
   "metadata": {}
  }
 ],
 "metadata": {
  "orig_nbformat": 4,
  "language_info": {
   "name": "python",
   "version": "3.8.8",
   "mimetype": "text/x-python",
   "codemirror_mode": {
    "name": "ipython",
    "version": 3
   },
   "pygments_lexer": "ipython3",
   "nbconvert_exporter": "python",
   "file_extension": ".py"
  },
  "kernelspec": {
   "name": "python3",
   "display_name": "Python 3.8.8 64-bit ('base': conda)"
  },
  "interpreter": {
   "hash": "dca0ade3e726a953b501b15e8e990130d2b7799f14cfd9f4271676035ebe5511"
  }
 },
 "nbformat": 4,
 "nbformat_minor": 2
}