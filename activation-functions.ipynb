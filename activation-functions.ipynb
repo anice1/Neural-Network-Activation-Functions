{
 "cells": [
  {
   "cell_type": "code",
   "execution_count": 3,
   "source": [
    "import matplotlib.pyplot as plt\n",
    "import numpy as np"
   ],
   "outputs": [],
   "metadata": {}
  },
  {
   "cell_type": "markdown",
   "source": [
    "# Neural Network\n",
    "<img src=\"Images/neural-network.jpg\" width=600 height=400/><br>\n",
    "A neural network (ANN) is a set of artificial neurons or algorithms that sought to find relationships in data by mimicking the human brain. A neuron takes a set of inputs performs some mathematical operation on them and gives an output. simply a GIGO `(Garbage In Garbage Out)` Network.\n",
    "<br>\n",
    "The inputs and outputs are numbers and there's no limit to the number of inputs a neuron can take in.\n",
    "\n",
    "# Network Activation Functions\n",
    "<br>\n",
    "\n",
    "<img src='Images/activation-function.jpg' width=600 height=400/>\n",
    "\n",
    "An activation function gives a neuron in a neural network ability to express itself. In otherwords an activation function decides whether a neuron would be activated or not. It does this by deciding if the input in the network is important in the process of prediction using simpler mathematical operations.\n",
    "\n",
    "## Why do Neural Networks Need an Activation Function?\n",
    "<img src='Images/non-linearity.jpg' width=600 height=400/> <br>\n",
    "We need them to be able add non-linearity to our neural network 🤷🏽‍♂️.\n",
    "Without an activation function, our neural network will only perform Linear Transformations on the inputs passed to it.\n",
    "<br>\n",
    "\n",
    "\n",
    "## Types of Activation Function\n",
    "There are 3 types of activation functions \n",
    "\n",
    "* Binary Step functions\n",
    "* Linear Activation function\n",
    "* Non-linear Activation function\n"
   ],
   "metadata": {}
  },
  {
   "cell_type": "markdown",
   "source": [
    "## Binary Step Function\n",
    "<img src=\"Images/binary-step.png\" width=\"300\" height=\"200\">"
   ],
   "metadata": {}
  },
  {
   "cell_type": "code",
   "execution_count": null,
   "source": [
    "def binary_step(x):\n",
    "    "
   ],
   "outputs": [],
   "metadata": {}
  },
  {
   "cell_type": "code",
   "execution_count": null,
   "source": [],
   "outputs": [],
   "metadata": {}
  },
  {
   "cell_type": "code",
   "execution_count": null,
   "source": [],
   "outputs": [],
   "metadata": {}
  },
  {
   "cell_type": "code",
   "execution_count": null,
   "source": [],
   "outputs": [],
   "metadata": {}
  }
 ],
 "metadata": {
  "orig_nbformat": 4,
  "language_info": {
   "name": "python",
   "version": "3.8.8",
   "mimetype": "text/x-python",
   "codemirror_mode": {
    "name": "ipython",
    "version": 3
   },
   "pygments_lexer": "ipython3",
   "nbconvert_exporter": "python",
   "file_extension": ".py"
  },
  "kernelspec": {
   "name": "python3",
   "display_name": "Python 3.8.8 64-bit ('base': conda)"
  },
  "interpreter": {
   "hash": "dca0ade3e726a953b501b15e8e990130d2b7799f14cfd9f4271676035ebe5511"
  }
 },
 "nbformat": 4,
 "nbformat_minor": 2
}